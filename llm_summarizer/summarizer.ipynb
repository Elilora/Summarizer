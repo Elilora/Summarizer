{
 "cells": [
  {
   "cell_type": "markdown",
   "id": "4b9cafc0",
   "metadata": {},
   "source": [
    "# Libraries"
   ]
  },
  {
   "cell_type": "code",
   "execution_count": 4,
   "id": "090b246a",
   "metadata": {},
   "outputs": [],
   "source": [
    "import pandas as pandas\n",
    "from datasets import load_dataset\n",
    "from langchain.chains.llm import LLMChain\n",
    "from huggingface_hub import notebook_login\n"
   ]
  },
  {
   "cell_type": "code",
   "execution_count": 6,
   "id": "ce244f2d",
   "metadata": {},
   "outputs": [
    {
     "data": {
      "application/vnd.jupyter.widget-view+json": {
       "model_id": "27bc3092e13b40eea01d89f52642e14f",
       "version_major": 2,
       "version_minor": 0
      },
      "text/plain": [
       "VBox(children=(HTML(value='<center> <img\\nsrc=https://huggingface.co/front/assets/huggingface_logo-noborder.sv…"
      ]
     },
     "metadata": {},
     "output_type": "display_data"
    }
   ],
   "source": [
    "notebook_login()"
   ]
  },
  {
   "cell_type": "markdown",
   "id": "4e02cadf",
   "metadata": {},
   "source": [
    "# Dataset"
   ]
  },
  {
   "cell_type": "code",
   "execution_count": 9,
   "id": "92014104",
   "metadata": {},
   "outputs": [
    {
     "data": {
      "text/html": [
       "<div>\n",
       "<style scoped>\n",
       "    .dataframe tbody tr th:only-of-type {\n",
       "        vertical-align: middle;\n",
       "    }\n",
       "\n",
       "    .dataframe tbody tr th {\n",
       "        vertical-align: top;\n",
       "    }\n",
       "\n",
       "    .dataframe thead th {\n",
       "        text-align: right;\n",
       "    }\n",
       "</style>\n",
       "<table border=\"1\" class=\"dataframe\">\n",
       "  <thead>\n",
       "    <tr style=\"text-align: right;\">\n",
       "      <th></th>\n",
       "      <th>article</th>\n",
       "      <th>abstract</th>\n",
       "    </tr>\n",
       "  </thead>\n",
       "  <tbody>\n",
       "    <tr>\n",
       "      <th>0</th>\n",
       "      <td>for about 20 years the problem of properties o...</td>\n",
       "      <td>the short - term periodicities of the daily su...</td>\n",
       "    </tr>\n",
       "    <tr>\n",
       "      <th>1</th>\n",
       "      <td>it is believed that the direct detection of gr...</td>\n",
       "      <td>we study the detectability of circular polariz...</td>\n",
       "    </tr>\n",
       "    <tr>\n",
       "      <th>2</th>\n",
       "      <td>as a common quantum phenomenon , the tunneling...</td>\n",
       "      <td>starting from the wkb approximation , a new ba...</td>\n",
       "    </tr>\n",
       "    <tr>\n",
       "      <th>3</th>\n",
       "      <td>for the hybrid monte carlo algorithm ( hmc)@xc...</td>\n",
       "      <td>we study a novel class of numerical integrator...</td>\n",
       "    </tr>\n",
       "    <tr>\n",
       "      <th>4</th>\n",
       "      <td>recently it was discovered that feynman integr...</td>\n",
       "      <td>new methods for obtaining functional equations...</td>\n",
       "    </tr>\n",
       "  </tbody>\n",
       "</table>\n",
       "</div>"
      ],
      "text/plain": [
       "                                             article  \\\n",
       "0  for about 20 years the problem of properties o...   \n",
       "1  it is believed that the direct detection of gr...   \n",
       "2  as a common quantum phenomenon , the tunneling...   \n",
       "3  for the hybrid monte carlo algorithm ( hmc)@xc...   \n",
       "4  recently it was discovered that feynman integr...   \n",
       "\n",
       "                                            abstract  \n",
       "0  the short - term periodicities of the daily su...  \n",
       "1  we study the detectability of circular polariz...  \n",
       "2  starting from the wkb approximation , a new ba...  \n",
       "3  we study a novel class of numerical integrator...  \n",
       "4  new methods for obtaining functional equations...  "
      ]
     },
     "execution_count": 9,
     "metadata": {},
     "output_type": "execute_result"
    }
   ],
   "source": [
    "data = load_dataset(\"ccdv/arxiv-summarization\", split=\"test\")\n",
    "data = data.to_pandas()\n",
    "data.head()"
   ]
  },
  {
   "cell_type": "code",
   "execution_count": 10,
   "id": "6eff7f5b",
   "metadata": {},
   "outputs": [],
   "source": [
    "print(data.isnull().any().sum())\n",
    "print(data.duplicated().any().sum())"
   ]
  },
  {
   "cell_type": "markdown",
   "id": "c04e888e",
   "metadata": {},
   "source": []
  },
  {
   "cell_type": "code",
   "execution_count": null,
   "id": "c9ad67a7",
   "metadata": {},
   "outputs": [],
   "source": []
  }
 ],
 "metadata": {
  "kernelspec": {
   "display_name": "base",
   "language": "python",
   "name": "python3"
  },
  "language_info": {
   "codemirror_mode": {
    "name": "ipython",
    "version": 3
   },
   "file_extension": ".py",
   "mimetype": "text/x-python",
   "name": "python",
   "nbconvert_exporter": "python",
   "pygments_lexer": "ipython3",
   "version": "3.12.4"
  }
 },
 "nbformat": 4,
 "nbformat_minor": 5
}
